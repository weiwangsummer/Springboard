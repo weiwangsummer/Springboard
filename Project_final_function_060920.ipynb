{
 "cells": [
  {
   "cell_type": "code",
   "execution_count": 50,
   "metadata": {},
   "outputs": [],
   "source": [
    "import pandas as pd\n",
    "import scipy as sp\n",
    "import numpy as np\n",
    "import nltk\n",
    "from nltk.corpus import reuters\n",
    "from sklearn import model_selection, preprocessing, linear_model, naive_bayes, metrics, svm\n",
    "from sklearn.feature_extraction.text import TfidfVectorizer, CountVectorizer\n",
    "from sklearn import decomposition, ensemble\n",
    "import seaborn as sns\n",
    "import matplotlib.pyplot as plt"
   ]
  },
  {
   "cell_type": "code",
   "execution_count": 51,
   "metadata": {},
   "outputs": [],
   "source": [
    "import xgboost, numpy, textblob, string\n",
    "from keras.preprocessing import text, sequence\n",
    "from keras import layers, models, optimizers"
   ]
  },
  {
   "cell_type": "code",
   "execution_count": 52,
   "metadata": {},
   "outputs": [],
   "source": [
    "from nltk import word_tokenize\n",
    "from nltk.stem.porter import PorterStemmer\n",
    "import re\n",
    "from nltk.corpus import stopwords\n",
    "import matplotlib as plt\n",
    "#nltk.download()\n",
    "from sklearn.externals import joblib"
   ]
  },
  {
   "cell_type": "code",
   "execution_count": 53,
   "metadata": {},
   "outputs": [],
   "source": [
    "count_vect_tk=joblib.load('/Users/Hans/Documents/Wei/Springboard_bootcamp/project1/news_classification_count_vect_tk.pkl')   "
   ]
  },
  {
   "cell_type": "code",
   "execution_count": 54,
   "metadata": {},
   "outputs": [],
   "source": [
    "def data_processing(dataset):\n",
    "    # remove stop word\n",
    "    cachedStopWords = stopwords.words(\"english\")\n",
    "    cachedStopWords.extend(['said','will'])\n",
    "    dataset['texts_r_sw']=dataset['texts'].apply(lambda x: [ word  for word in x.split() if word not in cachedStopWords])\n",
    "    #word stemming\n",
    "    stemming=PorterStemmer()\n",
    "    dataset['texts_sw_st']=dataset['texts_r_sw'].apply(lambda x: [stemming.stem(i) for i in x])\n",
    "    #word tokenization\n",
    "    dataset['texts_tk']=dataset['texts_sw_st'].apply(lambda x: word_tokenize(' '.join(x))) \n",
    "    print(dataset['texts_tk'].head())\n",
    "    #generate count vectors from tokenized data\n",
    "    count_vect_tk=joblib.load('/Users/Hans/Documents/Wei/Springboard_bootcamp/project1/news_classification_count_vect_tk.pkl')\n",
    "    dataset['texts_tk']=dataset['texts_tk'].apply(' '.join)\n",
    "    count_vector=count_vect_tk.transform(dataset['texts_tk'])\n",
    "    return count_vector\n"
   ]
  },
  {
   "cell_type": "code",
   "execution_count": 77,
   "metadata": {},
   "outputs": [],
   "source": [
    "trained_model=joblib.load('/Users/Hans/Documents/Wei/Springboard_bootcamp/project1/reuters21578 (1)/news_classification_logisticreg_031520.pkl')"
   ]
  },
  {
   "cell_type": "code",
   "execution_count": 88,
   "metadata": {},
   "outputs": [],
   "source": [
    "sample_df=pd.read_csv('/Users/Hans/Documents/Wei/Springboard_bootcamp/project1/project1.csv')"
   ]
  },
  {
   "cell_type": "code",
   "execution_count": 89,
   "metadata": {},
   "outputs": [
    {
     "name": "stdout",
     "output_type": "stream",
     "text": [
      "0    [washington, (, reuters, ), -, u.s., trade, re...\n",
      "1    [dublin, (, reuters, ), -, the, european, unio...\n",
      "2    [sao, paulo, ,, dec, 11, (, reuters, ), -, bra...\n",
      "3    [singapore, ,, march, 16, (, reuters, ), -, wh...\n",
      "4    [washington, ,, dec, 10, (, reuters, ), -, u.s...\n",
      "Name: texts_tk, dtype: object\n"
     ]
    }
   ],
   "source": [
    "predicting_data = data_processing(sample_df)"
   ]
  },
  {
   "cell_type": "code",
   "execution_count": 90,
   "metadata": {},
   "outputs": [],
   "source": [
    "trained_model=joblib.load('/Users/Hans/Documents/Wei/Springboard_bootcamp/project1/reuters21578 (1)/news_classification_logisticreg_031520.pkl')"
   ]
  },
  {
   "cell_type": "code",
   "execution_count": 91,
   "metadata": {},
   "outputs": [],
   "source": [
    "prediction=trained_model.predict(predicting_data)"
   ]
  },
  {
   "cell_type": "code",
   "execution_count": 92,
   "metadata": {},
   "outputs": [
    {
     "data": {
      "text/plain": [
       "array(['trade', 'trade', 'corn', 'dlr', 'trade', 'crude', 'corn',\n",
       "       'iron-steel', 'trade'], dtype='<U15')"
      ]
     },
     "execution_count": 92,
     "metadata": {},
     "output_type": "execute_result"
    }
   ],
   "source": [
    "prediction"
   ]
  },
  {
   "cell_type": "code",
   "execution_count": null,
   "metadata": {},
   "outputs": [],
   "source": []
  },
  {
   "cell_type": "code",
   "execution_count": null,
   "metadata": {},
   "outputs": [],
   "source": []
  },
  {
   "cell_type": "code",
   "execution_count": 27,
   "metadata": {},
   "outputs": [
    {
     "name": "stdout",
     "output_type": "stream",
     "text": [
      "/Users/Hans/anaconda3/bin/python\n"
     ]
    }
   ],
   "source": [
    "import sys\n",
    "print (sys.executable)"
   ]
  },
  {
   "cell_type": "code",
   "execution_count": null,
   "metadata": {},
   "outputs": [],
   "source": []
  }
 ],
 "metadata": {
  "kernelspec": {
   "display_name": "Python 3",
   "language": "python",
   "name": "python3"
  },
  "language_info": {
   "codemirror_mode": {
    "name": "ipython",
    "version": 3
   },
   "file_extension": ".py",
   "mimetype": "text/x-python",
   "name": "python",
   "nbconvert_exporter": "python",
   "pygments_lexer": "ipython3",
   "version": "3.7.1"
  }
 },
 "nbformat": 4,
 "nbformat_minor": 2
}
